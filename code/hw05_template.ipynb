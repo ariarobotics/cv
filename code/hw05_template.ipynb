{
 "cells": [
  {
   "cell_type": "code",
   "execution_count": 1,
   "id": "851d29f5",
   "metadata": {},
   "outputs": [],
   "source": [
    "import numpy as np\n",
    "import matplotlib.pyplot as plt\n",
    "from scipy import ndimage \n",
    "from skimage import io, color, filters, util, data, transform, feature"
   ]
  },
  {
   "cell_type": "code",
   "execution_count": null,
   "id": "5ccabba8",
   "metadata": {},
   "outputs": [],
   "source": [
    "def harris_corner_detector(image, alpha=0.05, threshold=1e-3, window_size=3, sigma=1.0):\n",
    "    # 1. Compute image derivatives\n",
    "    Ix = # compute horizontal derivative (x-direction)\n",
    "    Iy = # compute vertical derivative (y-direction)\n",
    "\n",
    "    # 2. Compute products of derivatives\n",
    "    Ixx = # Compute using hadamard product\n",
    "    Iyy = # Compute using hadamard product\n",
    "    Ixy = # Compute using hadamard product\n",
    "\n",
    "    # 3. Gaussian filter to smooth the squared derivatives\n",
    "    Sxx = # Gaussian filter of Ixx\n",
    "    Syy = # Gaussian filter of Iyy\n",
    "    Sxy = # Gaussian filter of Ixy\n",
    "\n",
    "    # 4. Compute cornerness \n",
    "    detM =  # Must be a function of only Sxx, Syy, or Sxy\n",
    "    traceM = # Must be a function of only Sxx, Syy, or Sxy\n",
    "    C = # C Must be a function of only detM, traceM, and alpha\n",
    "\n",
    "    # 5. Threshold C to remove weak corners\n",
    "    C_thresh = (C > threshold * C.max()) * C\n",
    "\n",
    "    # 6. Non-maximum suppression\n",
    "    win_half_size = int(window_size // 2)\n",
    "    corners = []\n",
    "    for y in range(win_half_size, C.shape[0]-win_half_size):\n",
    "        for x in range(win_half_size, C.shape[1]-win_half_size):\n",
    "            if C_thresh[y, x] == np.max(C_thresh[y-win_half_size : y+win_half_size+1,  x-win_half_size : x+win_half_size+1]):\n",
    "                if C_thresh[y, x] > 0:\n",
    "                    corners.append((y, x))\n",
    "\n",
    "    return corners, C"
   ]
  },
  {
   "cell_type": "code",
   "execution_count": null,
   "id": "32e52cdc",
   "metadata": {},
   "outputs": [],
   "source": [
    "# load input image\n",
    "img = util.img_as_float32( color.rgb2gray( io.imread('data/Fathian_04.jpg') ) )\n",
    "img = transform.rescale(img, 1/5)\n",
    "plt.imshow(img, cmap='gray')"
   ]
  },
  {
   "cell_type": "code",
   "execution_count": null,
   "id": "d51112cd",
   "metadata": {},
   "outputs": [],
   "source": [
    "# Harris corner detection\n",
    "threshold=1e-3\n",
    "alpha=0.05\n",
    "window_size=3\n",
    "sigma=2.0\n",
    "corners, C = harris_corner_detector(img, alpha, threshold, window_size, sigma)\n",
    "\n",
    "fig, ax = plt.subplots(nrows=1, ncols=2, figsize=(8,4))\n",
    "ax[0].imshow(C, cmap='bwr')\n",
    "ax[0].set_title(\"Cornerness\")\n",
    "ax[1].imshow(img, cmap='gray')\n",
    "y, x = zip(*corners)\n",
    "ax[1].scatter(x, y, c='r', s=2)\n",
    "ax[1].set_title(\"Harris Corner Detection\")"
   ]
  }
 ],
 "metadata": {
  "kernelspec": {
   "display_name": "cv",
   "language": "python",
   "name": "python3"
  },
  "language_info": {
   "codemirror_mode": {
    "name": "ipython",
    "version": 3
   },
   "file_extension": ".py",
   "mimetype": "text/x-python",
   "name": "python",
   "nbconvert_exporter": "python",
   "pygments_lexer": "ipython3",
   "version": "3.9.18"
  }
 },
 "nbformat": 4,
 "nbformat_minor": 5
}
